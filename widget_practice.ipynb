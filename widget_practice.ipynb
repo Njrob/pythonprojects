{
 "cells": [
  {
   "cell_type": "code",
   "execution_count": 1,
   "metadata": {},
   "outputs": [],
   "source": [
    "from ipywidgets import interact, fixed\n",
    "import pandas as pd\n",
    "import zipfile, requests, io\n",
    "import matplotlib.pyplot as plt\n",
    "from collections import Counter\n",
    "from sklearn.utils import shuffle\n",
    "import re\n",
    "from wordcloud import WordCloud\n",
    "from nltk.corpus import stopwords\n"
   ]
  },
  {
   "cell_type": "code",
   "execution_count": 2,
   "metadata": {},
   "outputs": [],
   "source": [
    "def extract_full_df(url_link, file, limit):\n",
    "    \n",
    "    r = requests.get(url_link)\n",
    "    \n",
    "    z = zipfile.ZipFile(io.BytesIO(r.content))\n",
    "    z.extractall()\n",
    "    \n",
    "    df = pd.read_csv(z.open(file))\n",
    "    df = shuffle(df)\n",
    "    df = df[:limit]\n",
    "    \n",
    "    df = df[pd.notnull(df['Consumer complaint narrative'])]\n",
    "    \n",
    "    df = df.astype(str)\n",
    "    \n",
    "    return df"
   ]
  },
  {
   "cell_type": "code",
   "execution_count": 3,
   "metadata": {},
   "outputs": [],
   "source": [
    "stop_words = set(stopwords.words('english'))"
   ]
  },
  {
   "cell_type": "code",
   "execution_count": 4,
   "metadata": {},
   "outputs": [],
   "source": [
    "df = extract_full_df('http://files.consumerfinance.gov/ccdb/complaints.csv.zip',\n",
    "                'complaints.csv', 800000)"
   ]
  },
  {
   "cell_type": "code",
   "execution_count": 5,
   "metadata": {},
   "outputs": [],
   "source": [
    "def top_100_companies(frame):\n",
    "    \n",
    "    full_list = sorted(list(dict(frame['Company'].value_counts()[:100]).keys()))\n",
    "    \n",
    "    frame = frame[frame['Company'].isin(full_list)]\n",
    "    \n",
    "    v_groupby = {}\n",
    "\n",
    "    frame['Year'] = [date[:7] for date in frame['Date received']]\n",
    "\n",
    "    frame['Company'] = frame['Company'].str.upper()\n",
    "    \n",
    "    frame['Match Key'] = frame['Year'] + frame['Company']\n",
    "\n",
    "            # group your chosen parameter by year in a dictionary\n",
    "    groupby = dict(frame.groupby('Year')['Company'].apply(list))\n",
    "    \n",
    "    complaint_groupby = dict(frame.groupby('Match Key')['Consumer complaint narrative'].apply(list))\n",
    "    \n",
    "    complaint_groupby = {k: \" \".join(v) for k, v in complaint_groupby.items()}\n",
    "    \n",
    "    for k, v in groupby.items():\n",
    "        c = Counter(v)\n",
    "        v_groupby[k] = c.most_common()\n",
    "\n",
    "            # plot the figure\n",
    "    df = pd.DataFrame([(k, *t) for k, v in v_groupby.items() for t in v], columns=['month','company','complaints'])\n",
    "    \n",
    "    df['Match Key'] = df['month'] + df['company']\n",
    "    \n",
    "    df['complaints_description'] = df['Match Key'].map(complaint_groupby)\n",
    "    \n",
    "    df['complaints_description'] = df['complaints_description'].str.lower()\n",
    "    \n",
    "    df = df.drop('Match Key', axis = 1)\n",
    "    \n",
    "    df['complaints_description'] = df['complaints_description'].apply(lambda x: ' '.join([word for word in x.split() if word not in stop_words]))\n",
    "    \n",
    "    df['complaints_description'] = [re.sub(r'x{2,}','', x) for x in df['complaints_description']]\n",
    "\n",
    "    return df"
   ]
  },
  {
   "cell_type": "code",
   "execution_count": 6,
   "metadata": {
    "scrolled": true
   },
   "outputs": [
    {
     "name": "stderr",
     "output_type": "stream",
     "text": [
      "/Applications/anaconda3/lib/python3.7/site-packages/ipykernel_launcher.py:9: SettingWithCopyWarning: \n",
      "A value is trying to be set on a copy of a slice from a DataFrame.\n",
      "Try using .loc[row_indexer,col_indexer] = value instead\n",
      "\n",
      "See the caveats in the documentation: http://pandas.pydata.org/pandas-docs/stable/user_guide/indexing.html#returning-a-view-versus-a-copy\n",
      "  if __name__ == '__main__':\n",
      "/Applications/anaconda3/lib/python3.7/site-packages/ipykernel_launcher.py:11: SettingWithCopyWarning: \n",
      "A value is trying to be set on a copy of a slice from a DataFrame.\n",
      "Try using .loc[row_indexer,col_indexer] = value instead\n",
      "\n",
      "See the caveats in the documentation: http://pandas.pydata.org/pandas-docs/stable/user_guide/indexing.html#returning-a-view-versus-a-copy\n",
      "  # This is added back by InteractiveShellApp.init_path()\n",
      "/Applications/anaconda3/lib/python3.7/site-packages/ipykernel_launcher.py:13: SettingWithCopyWarning: \n",
      "A value is trying to be set on a copy of a slice from a DataFrame.\n",
      "Try using .loc[row_indexer,col_indexer] = value instead\n",
      "\n",
      "See the caveats in the documentation: http://pandas.pydata.org/pandas-docs/stable/user_guide/indexing.html#returning-a-view-versus-a-copy\n",
      "  del sys.path[0]\n"
     ]
    }
   ],
   "source": [
    "df1 = top_100_companies(df)"
   ]
  },
  {
   "cell_type": "code",
   "execution_count": 7,
   "metadata": {},
   "outputs": [
    {
     "data": {
      "application/vnd.jupyter.widget-view+json": {
       "model_id": "800a8db517264e4bba1e501dbc66ee91",
       "version_major": 2,
       "version_minor": 0
      },
      "text/plain": [
       "interactive(children=(Dropdown(description='company', options=('ACE CASH EXPRESS, INC.', 'AD ASTRA RECOVERY SE…"
      ]
     },
     "metadata": {},
     "output_type": "display_data"
    }
   ],
   "source": [
    "@interact\n",
    "def line_plot(column = fixed('company'), company = sorted(df1['company'].unique())):\n",
    "    \n",
    "    wordcloud = WordCloud(width=800, height=400).generate(\" \".join(df1[df1['company'] == company]['complaints_description']))\n",
    "    \n",
    "    plt.figure(figsize=(12,6))\n",
    "    plt.imshow(wordcloud, interpolation='bilinear')\n",
    "    plt.axis(\"off\")\n",
    "    plt.show()\n",
    "    \n",
    "    df1[df1['company'] == company].set_index('month').plot(title = \"COMPLAINTS FOR {} OVER TIME\".format(company),\n",
    "                                                                figsize = (12,6))"
   ]
  },
  {
   "cell_type": "code",
   "execution_count": null,
   "metadata": {},
   "outputs": [],
   "source": []
  }
 ],
 "metadata": {
  "kernelspec": {
   "display_name": "Python 3",
   "language": "python",
   "name": "python3"
  },
  "language_info": {
   "codemirror_mode": {
    "name": "ipython",
    "version": 3
   },
   "file_extension": ".py",
   "mimetype": "text/x-python",
   "name": "python",
   "nbconvert_exporter": "python",
   "pygments_lexer": "ipython3",
   "version": "3.7.1"
  }
 },
 "nbformat": 4,
 "nbformat_minor": 2
}
