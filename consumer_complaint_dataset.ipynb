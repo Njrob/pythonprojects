{
 "cells": [
  {
   "cell_type": "code",
   "execution_count": 1,
   "metadata": {},
   "outputs": [],
   "source": [
    "# import necessary libraries\n",
    "import requests\n",
    "from sodapy import Socrata\n",
    "import pandas as pd\n",
    "import plotly.plotly as py\n",
    "from collections import Counter\n",
    "import numpy as np\n",
    "import matplotlib.pyplot as plt"
   ]
  },
  {
   "cell_type": "code",
   "execution_count": 18,
   "metadata": {},
   "outputs": [],
   "source": [
    "# define the API call as the CFPB Consumer Complaints Database\n",
    "cfpb_dataset = 'data.consumerfinance.gov'\n",
    "\n",
    "# CSV file for ACS 2017 Median Household Income statistics\n",
    "census_dataset = 'acs_income_dataset.csv'"
   ]
  },
  {
   "cell_type": "code",
   "execution_count": 19,
   "metadata": {},
   "outputs": [],
   "source": [
    "# initialize an empty list which will be used to hold the dataframes\n",
    "dfs = []\n",
    "\n",
    "# open the file which stores the CCDB API key\n",
    "f = open(\"ccdb_api.key\", \"r\")\n",
    "\n",
    "# store the API key value in a variable\n",
    "api_key = f.readline()"
   ]
  },
  {
   "cell_type": "code",
   "execution_count": 20,
   "metadata": {},
   "outputs": [],
   "source": [
    "# function to call the CCDB API in batches\n",
    "def batch_retrieve(api_call):\n",
    "    \n",
    "    # call the API\n",
    "    client = Socrata(api_call, api_key)\n",
    "    \n",
    "    # \"i\" is the record number where each batch API call starts\n",
    "    i = 0\n",
    "    for df in dfs:\n",
    "        i += len(df)\n",
    "    \n",
    "    # get the results with the CCDB API\n",
    "    results = client.get(\"s6ew-h6mp\", offset = i, limit=100)\n",
    "    \n",
    "    # turn the results into a dataframe\n",
    "    results_df = pd.DataFrame.from_records(results)\n",
    "    \n",
    "    # append all dataframes to a list (dfs)\n",
    "    dfs.append(results_df)\n",
    "\n",
    "# function to programmatically call batch_receive\n",
    "def retrieve_and_concatenate(num_dfs,filename):\n",
    "    \n",
    "    # for loop that loops through the number of dataframes in dfs\n",
    "    for i in range(num_dfs):\n",
    "        \n",
    "        batch_retrieve(cfpb_dataset)\n",
    "    \n",
    "    # concatenate all dataframes in dfs into one dataframe\n",
    "    df = pd.concat(dfs, sort=True)\n",
    "    \n",
    "    # pickle the file\n",
    "    df.to_pickle(filename)"
   ]
  },
  {
   "cell_type": "code",
   "execution_count": 79,
   "metadata": {},
   "outputs": [],
   "source": [
    "retrieve_and_concatenate(100,\"state_complaints.csv\")"
   ]
  },
  {
   "cell_type": "code",
   "execution_count": 176,
   "metadata": {},
   "outputs": [
    {
     "data": {
      "text/html": [
       "<div>\n",
       "<style scoped>\n",
       "    .dataframe tbody tr th:only-of-type {\n",
       "        vertical-align: middle;\n",
       "    }\n",
       "\n",
       "    .dataframe tbody tr th {\n",
       "        vertical-align: top;\n",
       "    }\n",
       "\n",
       "    .dataframe thead th {\n",
       "        text-align: right;\n",
       "    }\n",
       "</style>\n",
       "<table border=\"1\" class=\"dataframe\">\n",
       "  <thead>\n",
       "    <tr style=\"text-align: right;\">\n",
       "      <th></th>\n",
       "      <th>company</th>\n",
       "      <th>company_public_response</th>\n",
       "      <th>company_response</th>\n",
       "      <th>complaint_id</th>\n",
       "      <th>complaint_what_happened</th>\n",
       "      <th>consumer_consent_provided</th>\n",
       "      <th>consumer_disputed</th>\n",
       "      <th>date_received</th>\n",
       "      <th>date_sent_to_company</th>\n",
       "      <th>issue</th>\n",
       "      <th>product</th>\n",
       "      <th>state</th>\n",
       "      <th>sub_issue</th>\n",
       "      <th>sub_product</th>\n",
       "      <th>submitted_via</th>\n",
       "      <th>tags</th>\n",
       "      <th>timely</th>\n",
       "      <th>zip_code</th>\n",
       "    </tr>\n",
       "  </thead>\n",
       "  <tbody>\n",
       "    <tr>\n",
       "      <th>0</th>\n",
       "      <td>TRANSWORLD SYSTEMS INC</td>\n",
       "      <td>NaN</td>\n",
       "      <td>Closed with explanation</td>\n",
       "      <td>2943295</td>\n",
       "      <td>NaN</td>\n",
       "      <td>Consent not provided</td>\n",
       "      <td>N/A</td>\n",
       "      <td>2018-06-22T00:00:00.000</td>\n",
       "      <td>2018-06-22T00:00:00.000</td>\n",
       "      <td>Written notification about debt</td>\n",
       "      <td>Debt collection</td>\n",
       "      <td>NaN</td>\n",
       "      <td>Didn't receive notice of right to dispute</td>\n",
       "      <td>Other debt</td>\n",
       "      <td>Web</td>\n",
       "      <td>NaN</td>\n",
       "      <td>Yes</td>\n",
       "      <td>NaN</td>\n",
       "    </tr>\n",
       "    <tr>\n",
       "      <th>1</th>\n",
       "      <td>WELLS FARGO &amp; COMPANY</td>\n",
       "      <td>Company has responded to the consumer and the ...</td>\n",
       "      <td>Closed with monetary relief</td>\n",
       "      <td>2725425</td>\n",
       "      <td>NaN</td>\n",
       "      <td>N/A</td>\n",
       "      <td>N/A</td>\n",
       "      <td>2017-11-09T00:00:00.000</td>\n",
       "      <td>2017-11-09T00:00:00.000</td>\n",
       "      <td>Managing an account</td>\n",
       "      <td>Checking or savings account</td>\n",
       "      <td>WA</td>\n",
       "      <td>Problem using a debit or ATM card</td>\n",
       "      <td>Checking account</td>\n",
       "      <td>Phone</td>\n",
       "      <td>NaN</td>\n",
       "      <td>Yes</td>\n",
       "      <td>98362</td>\n",
       "    </tr>\n",
       "    <tr>\n",
       "      <th>2</th>\n",
       "      <td>PMAB,LLC</td>\n",
       "      <td>NaN</td>\n",
       "      <td>Closed with explanation</td>\n",
       "      <td>2710614</td>\n",
       "      <td>NaN</td>\n",
       "      <td>N/A</td>\n",
       "      <td>N/A</td>\n",
       "      <td>2017-10-24T00:00:00.000</td>\n",
       "      <td>2017-10-24T00:00:00.000</td>\n",
       "      <td>Written notification about debt</td>\n",
       "      <td>Debt collection</td>\n",
       "      <td>SC</td>\n",
       "      <td>Didn't receive enough information to verify debt</td>\n",
       "      <td>Other debt</td>\n",
       "      <td>Postal mail</td>\n",
       "      <td>NaN</td>\n",
       "      <td>No</td>\n",
       "      <td>29666</td>\n",
       "    </tr>\n",
       "    <tr>\n",
       "      <th>3</th>\n",
       "      <td>Ditech Financial LLC</td>\n",
       "      <td>Company believes it acted appropriately as aut...</td>\n",
       "      <td>Closed with explanation</td>\n",
       "      <td>2371574</td>\n",
       "      <td>NaN</td>\n",
       "      <td>Consent not provided</td>\n",
       "      <td>No</td>\n",
       "      <td>2017-03-04T00:00:00.000</td>\n",
       "      <td>2017-03-04T00:00:00.000</td>\n",
       "      <td>Loan servicing, payments, escrow account</td>\n",
       "      <td>Mortgage</td>\n",
       "      <td>MI</td>\n",
       "      <td>NaN</td>\n",
       "      <td>Conventional fixed mortgage</td>\n",
       "      <td>Web</td>\n",
       "      <td>NaN</td>\n",
       "      <td>Yes</td>\n",
       "      <td>48328</td>\n",
       "    </tr>\n",
       "    <tr>\n",
       "      <th>4</th>\n",
       "      <td>JPMORGAN CHASE &amp; CO.</td>\n",
       "      <td>NaN</td>\n",
       "      <td>Closed with monetary relief</td>\n",
       "      <td>2432049</td>\n",
       "      <td>NaN</td>\n",
       "      <td>N/A</td>\n",
       "      <td>No</td>\n",
       "      <td>2017-04-12T00:00:00.000</td>\n",
       "      <td>2017-04-13T00:00:00.000</td>\n",
       "      <td>Deposits and withdrawals</td>\n",
       "      <td>Bank account or service</td>\n",
       "      <td>CA</td>\n",
       "      <td>NaN</td>\n",
       "      <td>Other bank product/service</td>\n",
       "      <td>Referral</td>\n",
       "      <td>NaN</td>\n",
       "      <td>Yes</td>\n",
       "      <td>91913</td>\n",
       "    </tr>\n",
       "  </tbody>\n",
       "</table>\n",
       "</div>"
      ],
      "text/plain": [
       "                  company                            company_public_response  \\\n",
       "0  TRANSWORLD SYSTEMS INC                                                NaN   \n",
       "1   WELLS FARGO & COMPANY  Company has responded to the consumer and the ...   \n",
       "2                PMAB,LLC                                                NaN   \n",
       "3    Ditech Financial LLC  Company believes it acted appropriately as aut...   \n",
       "4    JPMORGAN CHASE & CO.                                                NaN   \n",
       "\n",
       "              company_response complaint_id complaint_what_happened  \\\n",
       "0      Closed with explanation      2943295                     NaN   \n",
       "1  Closed with monetary relief      2725425                     NaN   \n",
       "2      Closed with explanation      2710614                     NaN   \n",
       "3      Closed with explanation      2371574                     NaN   \n",
       "4  Closed with monetary relief      2432049                     NaN   \n",
       "\n",
       "  consumer_consent_provided consumer_disputed            date_received  \\\n",
       "0      Consent not provided               N/A  2018-06-22T00:00:00.000   \n",
       "1                       N/A               N/A  2017-11-09T00:00:00.000   \n",
       "2                       N/A               N/A  2017-10-24T00:00:00.000   \n",
       "3      Consent not provided                No  2017-03-04T00:00:00.000   \n",
       "4                       N/A                No  2017-04-12T00:00:00.000   \n",
       "\n",
       "      date_sent_to_company                                     issue  \\\n",
       "0  2018-06-22T00:00:00.000           Written notification about debt   \n",
       "1  2017-11-09T00:00:00.000                       Managing an account   \n",
       "2  2017-10-24T00:00:00.000           Written notification about debt   \n",
       "3  2017-03-04T00:00:00.000  Loan servicing, payments, escrow account   \n",
       "4  2017-04-13T00:00:00.000                  Deposits and withdrawals   \n",
       "\n",
       "                       product state  \\\n",
       "0              Debt collection   NaN   \n",
       "1  Checking or savings account    WA   \n",
       "2              Debt collection    SC   \n",
       "3                     Mortgage    MI   \n",
       "4      Bank account or service    CA   \n",
       "\n",
       "                                          sub_issue  \\\n",
       "0         Didn't receive notice of right to dispute   \n",
       "1                 Problem using a debit or ATM card   \n",
       "2  Didn't receive enough information to verify debt   \n",
       "3                                               NaN   \n",
       "4                                               NaN   \n",
       "\n",
       "                   sub_product submitted_via tags timely zip_code  \n",
       "0                   Other debt           Web  NaN    Yes      NaN  \n",
       "1             Checking account         Phone  NaN    Yes    98362  \n",
       "2                   Other debt   Postal mail  NaN     No    29666  \n",
       "3  Conventional fixed mortgage           Web  NaN    Yes    48328  \n",
       "4   Other bank product/service      Referral  NaN    Yes    91913  "
      ]
     },
     "execution_count": 176,
     "metadata": {},
     "output_type": "execute_result"
    }
   ],
   "source": [
    "pd.read_pickle(\"state_complaints.csv\").head()\n",
    "# This dataset has 250,000 records"
   ]
  },
  {
   "cell_type": "code",
   "execution_count": 162,
   "metadata": {},
   "outputs": [],
   "source": [
    "# function to preprocess the data for visualization\n",
    "def transform_dataframe(source_dataset):\n",
    "    \n",
    "    # open the dataset\n",
    "    df = pd.read_pickle(source_dataset)\n",
    "    \n",
    "    # create a subset of the original dataframe\n",
    "    states = df[(df.state.notnull())]\n",
    "    \n",
    "    # create three separate dictionaries listing company, product, and issue\n",
    "    # complaints by state\n",
    "    companies_groupby = dict(states.groupby(['state'])['company'].apply(list))\n",
    "    products_groupby = dict(states.groupby(['state'])['product'].apply(list))\n",
    "    issues_groupby = dict(states.groupby(['state'])['issue'].apply(list))\n",
    "    \n",
    "    # iterate through each dictionary and obtain the most commonly complained\n",
    "    # about company, product and issue for each state\n",
    "    for k, v in companies_groupby.items():\n",
    "        c = Counter(v)\n",
    "        companies_groupby[k] = c.most_common(1)\n",
    "        \n",
    "    for k, v in products_groupby.items():\n",
    "        c = Counter(v)\n",
    "        products_groupby[k] = c.most_common(1)\n",
    "        \n",
    "    for k, v in issues_groupby.items():\n",
    "        c = Counter(v)\n",
    "        issues_groupby[k] = c.most_common(1)\n",
    "    \n",
    "    # turn each dictionary into a list of lists\n",
    "    companies_data = [[key, v[0], v[1]] for key, value in companies_groupby.items() for v in value]\n",
    "    products_data = [[key, v[0], v[1]] for key, value in products_groupby.items() for v in value]\n",
    "    issues_data = [[key, v[0], v[1]] for key, value in issues_groupby.items() for v in value]\n",
    "    \n",
    "    # turn each list of lists into a dataframe, pickle each dataframe\n",
    "    companies_df = pd.DataFrame(companies_data, columns=['state', 'company', 'num_of_complaints'])\n",
    "    companies_df.to_pickle(\"top_company_complaints_per_state.csv\")\n",
    "    \n",
    "    products_df = pd.DataFrame(products_data, columns=['state', 'product', 'num_of_complaints'])\n",
    "    products_df.to_pickle(\"top_product_complaints_per_state.csv\") \n",
    "    \n",
    "    issues_df = pd.DataFrame(issues_data, columns=['state', 'issue', 'num_of_complaints'])\n",
    "    issues_df.to_pickle(\"top_issue_complaints_per_state.csv\")"
   ]
  },
  {
   "cell_type": "code",
   "execution_count": 163,
   "metadata": {},
   "outputs": [],
   "source": [
    "transform_dataframe('state_complaints.csv')"
   ]
  },
  {
   "cell_type": "code",
   "execution_count": 53,
   "metadata": {},
   "outputs": [],
   "source": [
    "# function to preprocess census_dataset\n",
    "def pickle_file(csv_file):\n",
    "    \n",
    "    # open csv, obtain subset, ignore first row of subset, rename columns\n",
    "    df = pd.read_csv(csv_file,low_memory=False)\n",
    "    df = df[['GEO.display-label','HC03_EST_VC02']]\n",
    "    df = df.iloc[1:]\n",
    "    df.columns = [\"zip_code\", \"med_household_income_17\"]\n",
    "    \n",
    "    # remove 'ZCTA5' from each zip code and write over existing column\n",
    "    zip_codes = [row.split()[1] for row in df['zip_code']]\n",
    "    df['zip_code'] = zip_codes\n",
    "    \n",
    "    # pickle file\n",
    "    df.to_pickle(\"zipcodes.csv\")"
   ]
  },
  {
   "cell_type": "code",
   "execution_count": 54,
   "metadata": {},
   "outputs": [],
   "source": [
    "pickle_file(census_dataset)"
   ]
  },
  {
   "cell_type": "code",
   "execution_count": 55,
   "metadata": {},
   "outputs": [],
   "source": [
    "# function to merge master dataset with zipcode dataset\n",
    "def join_data(dataset1,dataset2):\n",
    "    \n",
    "    # read state_complaints.csv and remove rows where zip code or state are\n",
    "    # null\n",
    "    ds1_df = pd.read_pickle(dataset1)\n",
    "    ds1_df = ds1_df[(ds1_df.zip_code.notnull())]\n",
    "    \n",
    "    # read zipcodes.csv\n",
    "    ds2_df = pd.read_pickle(dataset2)\n",
    "    \n",
    "    # merge the datasets with pd.merge on 'zip_code'. I used this method\n",
    "    # rather than pandasql because the latter would not query updated data\n",
    "    # when I used it.\n",
    "    complaints_by_zipcode = pd.merge(ds1_df, ds2_df, on='zip_code')\n",
    "    \n",
    "    # pickle the new file\n",
    "    complaints_by_zipcode.to_pickle(\"complaints_by_zipcode.csv\")"
   ]
  },
  {
   "cell_type": "code",
   "execution_count": 81,
   "metadata": {},
   "outputs": [],
   "source": [
    "join_data('state_complaints.csv','zipcodes.csv')"
   ]
  },
  {
   "cell_type": "code",
   "execution_count": 2,
   "metadata": {},
   "outputs": [],
   "source": [
    "# function to query the complaint data\n",
    "def query_complaint_data(dataset):\n",
    "    \n",
    "    # read complaints_by_zipcode.csv\n",
    "    df = pd.read_pickle(dataset)\n",
    "    \n",
    "    # find the median household income for each zip code in \n",
    "    # complaints_by_zipcode.csv\n",
    "    median_income_by_zip = df[['state', 'zip_code', 'med_household_income_17']].drop_duplicates()\n",
    "    \n",
    "    # remove empty rows\n",
    "    median_income_by_zip = median_income_by_zip[median_income_by_zip['med_household_income_17'] != '-']\n",
    "    \n",
    "    # take care of extra rows with string values by getting rid of them\n",
    "    median_income_by_zip = median_income_by_zip[median_income_by_zip['med_household_income_17'] != '2,500-']\n",
    "    median_income_by_zip = median_income_by_zip[median_income_by_zip['med_household_income_17'] != '250,000+']\n",
    "    \n",
    "    #pickle the file\n",
    "    median_income_by_zip.to_pickle(\"median_income_by_zip.csv\")"
   ]
  },
  {
   "cell_type": "code",
   "execution_count": 3,
   "metadata": {},
   "outputs": [],
   "source": [
    "query_complaint_data(\"complaints_by_zipcode.csv\")"
   ]
  },
  {
   "cell_type": "code",
   "execution_count": 4,
   "metadata": {
    "scrolled": true
   },
   "outputs": [
    {
     "data": {
      "text/html": [
       "<div>\n",
       "<style scoped>\n",
       "    .dataframe tbody tr th:only-of-type {\n",
       "        vertical-align: middle;\n",
       "    }\n",
       "\n",
       "    .dataframe tbody tr th {\n",
       "        vertical-align: top;\n",
       "    }\n",
       "\n",
       "    .dataframe thead th {\n",
       "        text-align: right;\n",
       "    }\n",
       "</style>\n",
       "<table border=\"1\" class=\"dataframe\">\n",
       "  <thead>\n",
       "    <tr style=\"text-align: right;\">\n",
       "      <th></th>\n",
       "      <th>state</th>\n",
       "      <th>zip_code</th>\n",
       "      <th>med_household_income_17</th>\n",
       "    </tr>\n",
       "  </thead>\n",
       "  <tbody>\n",
       "    <tr>\n",
       "      <th>0</th>\n",
       "      <td>WA</td>\n",
       "      <td>98362</td>\n",
       "      <td>46872</td>\n",
       "    </tr>\n",
       "    <tr>\n",
       "      <th>31</th>\n",
       "      <td>SC</td>\n",
       "      <td>29666</td>\n",
       "      <td>44198</td>\n",
       "    </tr>\n",
       "    <tr>\n",
       "      <th>32</th>\n",
       "      <td>MI</td>\n",
       "      <td>48328</td>\n",
       "      <td>52370</td>\n",
       "    </tr>\n",
       "    <tr>\n",
       "      <th>53</th>\n",
       "      <td>CT</td>\n",
       "      <td>48328</td>\n",
       "      <td>52370</td>\n",
       "    </tr>\n",
       "    <tr>\n",
       "      <th>56</th>\n",
       "      <td>CA</td>\n",
       "      <td>91913</td>\n",
       "      <td>87440</td>\n",
       "    </tr>\n",
       "  </tbody>\n",
       "</table>\n",
       "</div>"
      ],
      "text/plain": [
       "   state zip_code med_household_income_17\n",
       "0     WA    98362                   46872\n",
       "31    SC    29666                   44198\n",
       "32    MI    48328                   52370\n",
       "53    CT    48328                   52370\n",
       "56    CA    91913                   87440"
      ]
     },
     "execution_count": 4,
     "metadata": {},
     "output_type": "execute_result"
    }
   ],
   "source": [
    "pd.read_pickle(\"median_income_by_zip.csv\").head()\n",
    "# 13,003 of the 250,000 records have zip codes which are found\n",
    "# in the census ACS dataset"
   ]
  },
  {
   "cell_type": "code",
   "execution_count": 28,
   "metadata": {},
   "outputs": [],
   "source": [
    "# function to create a dataframe including the most recent US population\n",
    "# data by state and merge it with state codes and state names\n",
    "def state_pop_stats():\n",
    "    \n",
    "    # dictionary of state codes: state names\n",
    "    state_codes = {\n",
    "    'WA': 'Washington', 'DE': 'Delaware', 'DC': 'District of Columbia', \n",
    "    'WI': 'Wisconsin', 'WV': 'West Virginia', 'HI': 'Hawaii',\n",
    "    'FL': 'Florida', 'WY': 'Wyoming', 'PR': 'Puerto Rico', 'NJ': 'New Jersey', \n",
    "    'NM': 'New Mexico', 'TX': 'Texas','LA': 'Louisiana', 'NC': 'North Carolina', \n",
    "    'ND': 'North Dakota', 'NE': 'Nebraska', 'TN': 'Tennessee', 'NY': 'New York',\n",
    "    'PA': 'Pennsylvania', 'AK': 'Alaska', 'NV': 'Nevada', 'NH': 'New Hampshire', \n",
    "    'VA': 'Virginia', 'CO': 'Colorado','CA': 'California', 'AL': 'Alabama', \n",
    "    'AR': 'Arkansas', 'VT': 'Vermont', 'IL': 'Illinois', 'GA': 'Georgia',\n",
    "    'IN': 'Indiana', 'IA': 'Iowa', 'MA': 'Massachusetts', 'AZ': 'Arizona', \n",
    "    'ID': 'Idaho', 'CT': 'Connecticut','ME': 'Maine', 'MD': 'Maryland', \n",
    "    'OK': 'Oklahoma', 'OH': 'Ohio', 'UT': 'Utah', 'MO': 'Missouri',\n",
    "    'MN': 'Minnesota', 'MI': 'Michigan', 'RI': 'Rhode Island', 'KS': 'Kansas', \n",
    "    'MT': 'Montana', 'MS': 'Mississippi','SC': 'South Carolina', 'KY': 'Kentucky', \n",
    "    'OR': 'Oregon', 'SD': 'South Dakota'\n",
    "    }\n",
    "    \n",
    "    # get HTML wikitable of US population by state and turn it into a\n",
    "    # dataframe using pd.read_html\n",
    "    df = pd.read_html(\"https://simple.wikipedia.org/wiki/List_of_U.S._states_by_population\", attrs={\"class\": \"wikitable\"})\n",
    "    df = df[0]\n",
    "    \n",
    "    # create a subset of the dataframe called state_populations that includes\n",
    "    # only the fifty US states plus Washington DC, skip the first row, \n",
    "    # rename the columns/standardize the metadata, and convert\n",
    "    # 'population_16' column from type(str) to type(int)\n",
    "    state_populations = df[[2, 3]][1:53]\n",
    "    state_populations.columns = ['state_name','population_16']\n",
    "    state_populations['population_16'] = state_populations['population_16'].astype(np.int64)\n",
    "    \n",
    "    # turn the state_codes dictionary into a dataframe, standardize \n",
    "    # the metadata, reset the index, merge with state_populations dataframe\n",
    "    states = pd.DataFrame.from_dict(state_codes, orient='index')\n",
    "    states.index.name = 'state'\n",
    "    states.columns = ['state_name']\n",
    "    states = states.reset_index()\n",
    "    states_by_population = pd.merge(states, state_populations, on='state_name')\n",
    "    states_by_population.to_pickle('states_by_population.csv')"
   ]
  },
  {
   "cell_type": "code",
   "execution_count": 29,
   "metadata": {
    "scrolled": true
   },
   "outputs": [],
   "source": [
    "state_pop_stats()"
   ]
  },
  {
   "cell_type": "code",
   "execution_count": 164,
   "metadata": {},
   "outputs": [],
   "source": [
    "# function to get the proportion of complaints to the total population\n",
    "# for balancing purposes\n",
    "def complaints_per_pop(source_dataset):\n",
    "\n",
    "    # read source_dataset, which can be any of the pickled files created in the\n",
    "    # transform_dataframe function\n",
    "    # read states_by_population.csv\n",
    "    df1 = pd.read_pickle(source_dataset)\n",
    "    df2 = pd.read_pickle('states_by_population.csv')\n",
    "    \n",
    "    # create new dataframe from the above two using the 'state' column,\n",
    "    # create column which divides the number of complaints for a company,\n",
    "    # product, or issue by the total population of the state\n",
    "    # pickle the new dataframe\n",
    "    df3 = pd.merge(df1, df2, on='state')\n",
    "    df3['per_pop'] = df3['num_of_complaints'] / df3 ['population_16']\n",
    "    df3.to_pickle(source_dataset)"
   ]
  },
  {
   "cell_type": "code",
   "execution_count": 165,
   "metadata": {},
   "outputs": [],
   "source": [
    "complaints_per_pop(\"top_company_complaints_per_state.csv\")\n",
    "complaints_per_pop(\"top_product_complaints_per_state.csv\")\n",
    "complaints_per_pop(\"top_issue_complaints_per_state.csv\")"
   ]
  },
  {
   "cell_type": "code",
   "execution_count": 140,
   "metadata": {},
   "outputs": [],
   "source": [
    "# create a function that will group median income per zip code into\n",
    "# income batches for easier analysis\n",
    "def income_batches(dataset):\n",
    "    \n",
    "    # this should be median_income_by_zipcode.csv\n",
    "    df = pd.read_pickle(dataset)\n",
    "    \n",
    "    # convert the row med_household_income_17 from type(str) to type(int)\n",
    "    df['med_household_income_17'] = df['med_household_income_17'].astype(np.int64)\n",
    "    \n",
    "    # for loop to create income batches and populate a new column in\n",
    "    # median_income_by_zip.csv\n",
    "    df.loc[df['med_household_income_17'] < 25000, 'income_batch'] = '<$25K'\n",
    "    df.loc[(df['med_household_income_17'] >= 25000) & (df['med_household_income_17'] <= 50000), 'income_batch'] = '$25K-$50K'\n",
    "    df.loc[(df['med_household_income_17'] >= 50000) & (df['med_household_income_17'] <= 75000), 'income_batch'] = '$50K-$75K'\n",
    "    df.loc[(df['med_household_income_17'] >= 75000) & (df['med_household_income_17'] <= 100000), 'income_batch'] = '$75K-$100K'\n",
    "    df.loc[(df['med_household_income_17'] >= 100000) & (df['med_household_income_17'] <= 125000), 'income_batch'] = '$100K-$125K'\n",
    "    df.loc[(df['med_household_income_17'] >= 125000) & (df['med_household_income_17'] <= 150000), 'income_batch'] = '$125K-$150K'\n",
    "    df.loc[(df['med_household_income_17'] >= 150000) & (df['med_household_income_17'] <= 175000), 'income_batch'] = '$150K-$175K'\n",
    "    df.loc[(df['med_household_income_17'] >= 175000) & (df['med_household_income_17'] <= 200000), 'income_batch'] = '$175K-$200K'\n",
    "    df.loc[df['med_household_income_17'] > 200000, 'income_batch'] = '>$200K'\n",
    "    \n",
    "    # pickle median_income_by_zip.csv\n",
    "    df.to_pickle(dataset)"
   ]
  },
  {
   "cell_type": "code",
   "execution_count": 141,
   "metadata": {},
   "outputs": [],
   "source": [
    "income_batches('median_income_by_zip.csv')"
   ]
  },
  {
   "cell_type": "code",
   "execution_count": 143,
   "metadata": {},
   "outputs": [],
   "source": [
    "# function to visualize complaints about specific metrics on a matplotlib\n",
    "# bar graph\n",
    "def complaints_ordered(source_dataset, metric, limit):\n",
    "    \n",
    "    # this should be state_complaints.csv\n",
    "    df = pd.read_pickle(source_dataset)\n",
    "    \n",
    "    # initialize dictionary\n",
    "    dictionary = {}\n",
    "    \n",
    "    # count the number of values for a specific metric (product, issue, etc.)\n",
    "    c = Counter(list(df[metric]))\n",
    "    \n",
    "    # get the most common results according to the limit set by the user\n",
    "    most_common = c.most_common(limit)\n",
    "    \n",
    "    # populate the dictionary with the names of the metric values as the \n",
    "    # key, with the count of the values being the value\n",
    "    for element in most_common:\n",
    "        dictionary[element[0]] = element[1]\n",
    "    \n",
    "    # create x, y, and labels\n",
    "    y = list(dictionary.values())\n",
    "    labels = list(dictionary.keys())\n",
    "    x = np.arange(len(y))\n",
    "    \n",
    "    # plot the graph\n",
    "    plt.figure(figsize=(20,6))\n",
    "    plt.bar(x,y)\n",
    "    plt.title('Complaints by {}'.format(metric))\n",
    "    plt.ylabel('Number of complaints')\n",
    "    plt.xlabel('{}'.format(metric))\n",
    "    plt.xticks(x,labels)\n",
    "    \n",
    "    # show the plot\n",
    "    plt.show()"
   ]
  },
  {
   "cell_type": "code",
   "execution_count": 159,
   "metadata": {},
   "outputs": [],
   "source": [
    "# function to visualize complaints by income group as a matplotlib bar\n",
    "# graph\n",
    "def complaints_by_income_group(dataset):\n",
    "    \n",
    "    # this should be med_income_per_zip.csv\n",
    "    df = pd.read_pickle(dataset)\n",
    "    \n",
    "    #initialize dictionary\n",
    "    dictionary = {}\n",
    "    \n",
    "    # get counts for each income batch\n",
    "    c = Counter(list(df['income_batch']))\n",
    "    \n",
    "    # return all of the values in the counter variable\n",
    "    most_common = c.most_common()\n",
    "    \n",
    "    # populate the dictionary with the income batch as the key, and the\n",
    "    # count of the number of times they appear as the variable\n",
    "    for element in most_common:\n",
    "        dictionary[element[0]] = element[1]\n",
    "    \n",
    "    # create x, y and labels\n",
    "    y = list(dictionary.values())\n",
    "    labels = list(dictionary.keys())\n",
    "    x = np.arange(len(y))\n",
    "    \n",
    "    # plot the graph\n",
    "    plt.figure(figsize=(20,6))\n",
    "    plt.bar(x,y)\n",
    "    plt.title('Complaints by income group')\n",
    "    plt.ylabel('Number of complaints')\n",
    "    plt.xlabel('Income group')\n",
    "    plt.xticks(x,labels)\n",
    "    \n",
    "    # show the plot\n",
    "    plt.show()"
   ]
  },
  {
   "cell_type": "code",
   "execution_count": 6,
   "metadata": {},
   "outputs": [],
   "source": [
    "# creates a chloropleth map of the United States measuring the most\n",
    "# complaint about companies, products, and issues by each state.\n",
    "# Function calls can be done either with the complaints per population \n",
    "# metric or with the total number of complaints\n",
    "def visualization(source_file,grouped_data,metric,target_file):\n",
    "    \n",
    "    # read the file\n",
    "    df = pd.read_pickle(source_file)\n",
    "    \n",
    "    # convert columns to strings\n",
    "    for col in df.columns:\n",
    "        df[col] = df[col].astype(str)\n",
    "        \n",
    "    # create the colors for the map\n",
    "    scl = [[0.0, 'rgb(242,246,249)'],[0.2, 'rgb(212,230,243)'],[0.4, 'rgb(179,213,239)'],\\\n",
    "            [0.6, 'rgb(166,205,239)'],[0.8, 'rgb(157,202,236)'],[1.0, 'rgb(92,150,208)']]\n",
    "    \n",
    "    # create the text for the map that the user will see while hovering\n",
    "    df['text'] = df['state'] + '<br>' +\\\n",
    "    df[grouped_data] + ' has ' + df['num_of_complaints'] + ' complaints.'\n",
    "    \n",
    "    # create the data that will be visualized\n",
    "    data = [ dict(\n",
    "        type='choropleth',\n",
    "        colorscale = scl,\n",
    "        autocolorscale = False,\n",
    "        locations = df['state'],\n",
    "        z = df[metric].astype(float),\n",
    "        locationmode = 'USA-states',\n",
    "        text = df['text'],\n",
    "        marker = dict(\n",
    "            line = dict (\n",
    "                color = 'rgb(255,255,255)',\n",
    "                width = 2\n",
    "            ) ),\n",
    "        colorbar = dict(\n",
    "            title = \"Complaints\")\n",
    "        ) ]\n",
    "    \n",
    "    # create the layout of the map and specify the scope (United States)\n",
    "    layout = dict(\n",
    "        title = '2018 CFPB Statistics: Most complained about companies, products and issues',\n",
    "        geo = dict(\n",
    "            scope='usa',\n",
    "            projection=dict( type='albers usa' ),\n",
    "            showlakes = True,\n",
    "            lakecolor = 'rgb(255, 255, 255)'),\n",
    "             )\n",
    "    \n",
    "    # create the visualization\n",
    "    fig = dict(data=data, layout=layout)\n",
    "    visualization = py.iplot(fig, filename=target_file)\n",
    "    \n",
    "    # call the visualization\n",
    "    return visualization"
   ]
  },
  {
   "cell_type": "code",
   "execution_count": 145,
   "metadata": {
    "scrolled": true
   },
   "outputs": [
    {
     "data": {
      "image/png": "[encoded data removed]",
      "text/plain": [
       "<Figure size 1440x432 with 1 Axes>"
      ]
     },
     "metadata": {},
     "output_type": "display_data"
    }
   ],
   "source": [
    "complaints_ordered('state_complaints.csv','company',5)\n",
    "# The five most complained about companies to the CFPB are Bank Of America,\n",
    "# Wells Fargo, Experian, Equifax, and Transunion"
   ]
  },
  {
   "cell_type": "code",
   "execution_count": 146,
   "metadata": {},
   "outputs": [
    {
     "data": {
      "image/png": "[encoded data removed]",
      "text/plain": [
       "<Figure size 1440x432 with 1 Axes>"
      ]
     },
     "metadata": {},
     "output_type": "display_data"
    }
   ],
   "source": [
    "complaints_ordered('state_complaints.csv','product',5)\n",
    "# The five most complained about products to the CFPB are mortgages, debt\n",
    "# collection, credit reports, bank accounts, and credit cards"
   ]
  },
  {
   "cell_type": "code",
   "execution_count": 147,
   "metadata": {},
   "outputs": [
    {
     "data": {
      "image/png": "[encoded data removed]",
      "text/plain": [
       "<Figure size 1440x432 with 1 Axes>"
      ]
     },
     "metadata": {},
     "output_type": "display_data"
    }
   ],
   "source": [
    "complaints_ordered('state_complaints.csv','issue',5)\n",
    "# The give most complained about issues to the CFPB are loan modifications/\n",
    "# collections/foreclosures, incorrect information on credit reports, loan\n",
    "# servicing/payments, escrow account issues, aggressive debt collection on\n",
    "# debts that are not owed, and account opening/closing/management"
   ]
  },
  {
   "cell_type": "code",
   "execution_count": 160,
   "metadata": {
    "scrolled": false
   },
   "outputs": [
    {
     "data": {
      "image/png": "[encoded data removed]",
      "text/plain": [
       "<Figure size 1440x432 with 1 Axes>"
      ]
     },
     "metadata": {},
     "output_type": "display_data"
    }
   ],
   "source": [
    "complaints_by_income_group('median_income_by_zip.csv')\n",
    "# This graph shows the median income per zip code corresponding to \n",
    "# the origination of complaints filed to the CFPB by order of greatest to\n",
    "# least"
   ]
  },
  {
   "cell_type": "code",
   "execution_count": 8,
   "metadata": {
    "scrolled": true
   },
   "outputs": [
    {
     "data": {
      "text/html": [
       "<iframe id=\"igraph\" scrolling=\"no\" style=\"border:none;\" seamless=\"seamless\" src=\"https://plot.ly/~njrob/8.embed\" height=\"525px\" width=\"100%\"></iframe>"
      ],
      "text/plain": [
       "<plotly.tools.PlotlyDisplay object>"
      ]
     },
     "execution_count": 8,
     "metadata": {},
     "output_type": "execute_result"
    }
   ],
   "source": [
    "visualization(\"top_company_complaints_per_state.csv\",'company','per_pop','top_company_complaints_per_pop')\n",
    "# Shows the level of complaints about specific companies proportional to \n",
    "# population, with brighter blue indicating a higher level of complaints"
   ]
  },
  {
   "cell_type": "code",
   "execution_count": 9,
   "metadata": {
    "scrolled": true
   },
   "outputs": [
    {
     "data": {
      "text/html": [
       "<iframe id=\"igraph\" scrolling=\"no\" style=\"border:none;\" seamless=\"seamless\" src=\"https://plot.ly/~njrob/10.embed\" height=\"525px\" width=\"100%\"></iframe>"
      ],
      "text/plain": [
       "<plotly.tools.PlotlyDisplay object>"
      ]
     },
     "execution_count": 9,
     "metadata": {},
     "output_type": "execute_result"
    }
   ],
   "source": [
    "visualization(\"top_company_complaints_per_state.csv\",'company','num_of_complaints','top_company_complaints_absolute')\n",
    "# Shows the number of complaints about specific companies proportional to \n",
    "# population, with brighter blue indicating a higher number of complaints"
   ]
  },
  {
   "cell_type": "code",
   "execution_count": 10,
   "metadata": {
    "scrolled": true
   },
   "outputs": [
    {
     "data": {
      "text/html": [
       "<iframe id=\"igraph\" scrolling=\"no\" style=\"border:none;\" seamless=\"seamless\" src=\"https://plot.ly/~njrob/12.embed\" height=\"525px\" width=\"100%\"></iframe>"
      ],
      "text/plain": [
       "<plotly.tools.PlotlyDisplay object>"
      ]
     },
     "execution_count": 10,
     "metadata": {},
     "output_type": "execute_result"
    }
   ],
   "source": [
    "visualization(\"top_product_complaints_per_state.csv\",'product','per_pop','top_product_complaints_per_pop')\n",
    "# Shows the level of complaints about specific products proportional to \n",
    "# population, with brighter blue indicating a higher level of complaints"
   ]
  },
  {
   "cell_type": "code",
   "execution_count": 11,
   "metadata": {},
   "outputs": [
    {
     "data": {
      "text/html": [
       "<iframe id=\"igraph\" scrolling=\"no\" style=\"border:none;\" seamless=\"seamless\" src=\"https://plot.ly/~njrob/14.embed\" height=\"525px\" width=\"100%\"></iframe>"
      ],
      "text/plain": [
       "<plotly.tools.PlotlyDisplay object>"
      ]
     },
     "execution_count": 11,
     "metadata": {},
     "output_type": "execute_result"
    }
   ],
   "source": [
    "visualization(\"top_product_complaints_per_state.csv\",'product','num_of_complaints','top_product_complaints_absolute')\n",
    "# Shows the number of complaints about specific products proportional to \n",
    "# population, with brighter blue indicating a higher number of complaints"
   ]
  },
  {
   "cell_type": "code",
   "execution_count": 12,
   "metadata": {},
   "outputs": [
    {
     "data": {
      "text/html": [
       "<iframe id=\"igraph\" scrolling=\"no\" style=\"border:none;\" seamless=\"seamless\" src=\"https://plot.ly/~njrob/16.embed\" height=\"525px\" width=\"100%\"></iframe>"
      ],
      "text/plain": [
       "<plotly.tools.PlotlyDisplay object>"
      ]
     },
     "execution_count": 12,
     "metadata": {},
     "output_type": "execute_result"
    }
   ],
   "source": [
    "visualization(\"top_issue_complaints_per_state.csv\",'issue','per_pop','top_issue_complaints_per_pop')\n",
    "# Shows the level of complaints about specific issues proportional to \n",
    "# population, with brighter blue indicating a higher level of complaints"
   ]
  },
  {
   "cell_type": "code",
   "execution_count": 13,
   "metadata": {},
   "outputs": [
    {
     "data": {
      "text/html": [
       "<iframe id=\"igraph\" scrolling=\"no\" style=\"border:none;\" seamless=\"seamless\" src=\"https://plot.ly/~njrob/18.embed\" height=\"525px\" width=\"100%\"></iframe>"
      ],
      "text/plain": [
       "<plotly.tools.PlotlyDisplay object>"
      ]
     },
     "execution_count": 13,
     "metadata": {},
     "output_type": "execute_result"
    }
   ],
   "source": [
    "visualization(\"top_issue_complaints_per_state.csv\",'issue','num_of_complaints','top_issue_complaints_absolute')\n",
    "# Shows the number of complaints about specific issues proportional to \n",
    "# population, with brighter blue indicating a higher number of complaints"
   ]
  }
 ],
 "metadata": {
  "kernelspec": {
   "display_name": "Python 3",
   "language": "python",
   "name": "python3"
  },
  "language_info": {
   "codemirror_mode": {
    "name": "ipython",
    "version": 3
   },
   "file_extension": ".py",
   "mimetype": "text/x-python",
   "name": "python",
   "nbconvert_exporter": "python",
   "pygments_lexer": "ipython3",
   "version": "3.6.5"
  }
 },
 "nbformat": 4,
 "nbformat_minor": 2
}
