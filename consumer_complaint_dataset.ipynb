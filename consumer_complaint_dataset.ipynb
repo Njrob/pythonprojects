{
 "cells": [
  {
   "cell_type": "code",
   "execution_count": 1,
   "metadata": {},
   "outputs": [],
   "source": [
    "import requests\n",
    "from sodapy import Socrata\n",
    "import pandas as pd\n",
    "import plotly.plotly as py\n",
    "from collections import Counter\n",
    "import numpy as np\n",
    "import matplotlib.pyplot as plt"
   ]
  },
  {
   "cell_type": "code",
   "execution_count": 2,
   "metadata": {},
   "outputs": [],
   "source": [
    "# define the API call as the CFPB Consumer Complaints Database\n",
    "cfpb_dataset = 'data.consumerfinance.gov'\n",
    "\n",
    "# CSV file for ACS 2017 Median Household Income statistics\n",
    "census_dataset = 'acs_income_dataset.csv'"
   ]
  },
  {
   "cell_type": "code",
   "execution_count": 3,
   "metadata": {},
   "outputs": [],
   "source": [
    "# initialize an empty list which will be used to hold the dataframes\n",
    "dfs = []\n",
    "\n",
    "# open the file which stores the CCDB API key\n",
    "f = open(\"ccdb_api.key\", \"r\")\n",
    "\n",
    "# store the API key value in a variable\n",
    "api_key = f.readline()"
   ]
  },
  {
   "cell_type": "code",
   "execution_count": 4,
   "metadata": {},
   "outputs": [],
   "source": [
    "def batch_retrieve(api_call):\n",
    "    \n",
    "    client = Socrata(api_call, api_key)\n",
    "    \n",
    "    i = 0\n",
    "    for df in dfs:\n",
    "        i += len(df)\n",
    "    \n",
    "    results = client.get(\"s6ew-h6mp\", offset = i, limit=100)\n",
    "    \n",
    "    results_df = pd.DataFrame.from_records(results)\n",
    "    \n",
    "    dfs.append(results_df)\n",
    "\n",
    "def retrieve_and_concatenate(num_dfs,filename): # this function will retrieve and concat\n",
    "        \n",
    "    for i in range(num_dfs):\n",
    "        \n",
    "        batch_retrieve(cfpb_dataset)\n",
    "    \n",
    "    df = pd.concat(dfs, sort=True)\n",
    "    \n",
    "    df.to_pickle(filename)"
   ]
  },
  {
   "cell_type": "code",
   "execution_count": 23,
   "metadata": {},
   "outputs": [],
   "source": [
    "retrieve_and_concatenate(1000,\"state_complaints.csv\")"
   ]
  },
  {
   "cell_type": "code",
   "execution_count": 7,
   "metadata": {},
   "outputs": [],
   "source": [
    "def transform_dataframe(source_dataset):\n",
    "    \n",
    "    df = pd.read_pickle(source_dataset)\n",
    "    \n",
    "    states = df[(df.state.notnull())]\n",
    "\n",
    "    companies_groupby = dict(states.groupby(['state'])['company'].apply(list))\n",
    "    products_groupby = dict(states.groupby(['state'])['product'].apply(list))\n",
    "    issues_groupby = dict(states.groupby(['state'])['issue'].apply(list))\n",
    "            \n",
    "    for k, v in companies_groupby.items():\n",
    "        c = Counter(v)\n",
    "        companies_groupby[k] = c.most_common(1)\n",
    "        \n",
    "    for k, v in products_groupby.items():\n",
    "        c = Counter(v)\n",
    "        products_groupby[k] = c.most_common(1)\n",
    "        \n",
    "    for k, v in issues_groupby.items():\n",
    "        c = Counter(v)\n",
    "        issues_groupby[k] = c.most_common(1)\n",
    "            \n",
    "    companies_data = [[key, v[0], v[1]] for key, value in companies_groupby.items() for v in value]\n",
    "    products_data = [[key, v[0], v[1]] for key, value in products_groupby.items() for v in value]\n",
    "    issues_data = [[key, v[0], v[1]] for key, value in issues_groupby.items() for v in value]\n",
    "    \n",
    "    companies_df = pd.DataFrame(companies_data, columns=['state', 'company', 'num_of_complaints'])\n",
    "    companies_df.to_pickle(\"top_company_complaints_per_state.csv\")\n",
    "    \n",
    "    products_df = pd.DataFrame(products_data, columns=['state', 'product', 'num_of_complaints'])\n",
    "    products_df.to_pickle(\"top_product_complaints_per_state.csv\") \n",
    "    \n",
    "    issues_df = pd.DataFrame(issues_data, columns=['state', 'issue', 'num_of_complaints'])\n",
    "    issues_df.to_pickle(\"top_issue_complaints_per_state.csv\")"
   ]
  },
  {
   "cell_type": "code",
   "execution_count": 8,
   "metadata": {},
   "outputs": [],
   "source": [
    "transform_dataframe('state_complaints.csv')"
   ]
  },
  {
   "cell_type": "code",
   "execution_count": 179,
   "metadata": {},
   "outputs": [],
   "source": [
    "def pickle_file(csv_file):\n",
    "    \n",
    "    df = pd.read_csv(csv_file,low_memory=False)\n",
    "    df = df[['GEO.display-label','HC03_EST_VC02']]\n",
    "    df = df.iloc[1:]\n",
    "    df.columns = [\"zip_code\", \"med_household_income_17\"]\n",
    "    \n",
    "    zip_codes = [row.split()[1] for row in df['zip_code']]\n",
    "    df['zip_code'] = zip_codes\n",
    "    \n",
    "    df.to_pickle(\"zipcodes.csv\")"
   ]
  },
  {
   "cell_type": "code",
   "execution_count": 214,
   "metadata": {},
   "outputs": [],
   "source": [
    "pickle_file(census_dataset)"
   ]
  },
  {
   "cell_type": "code",
   "execution_count": 9,
   "metadata": {},
   "outputs": [],
   "source": [
    "def join_data(dataset1,dataset2):\n",
    "    \n",
    "    ds1_df = pd.read_pickle(dataset1)\n",
    "    ds1_df = ds1_df[(ds1_df.zip_code.notnull())]\n",
    "    \n",
    "    ds2_df = pd.read_pickle(dataset2)\n",
    "        \n",
    "    complaints_by_zipcode = pd.merge(ds1_df, ds2_df, on='zip_code')\n",
    "        \n",
    "    complaints_by_zipcode.to_pickle(\"complaints_by_zipcode.csv\")"
   ]
  },
  {
   "cell_type": "code",
   "execution_count": 24,
   "metadata": {},
   "outputs": [],
   "source": [
    "join_data('state_complaints.csv','zipcodes.csv')"
   ]
  },
  {
   "cell_type": "code",
   "execution_count": 11,
   "metadata": {},
   "outputs": [],
   "source": [
    "def query_complaint_data(dataset):\n",
    "    \n",
    "    df = pd.read_pickle(dataset)\n",
    "        \n",
    "    median_income_by_zip = df[['state', 'zip_code', 'med_household_income_17']].drop_duplicates()\n",
    "    \n",
    "    median_income_by_zip.to_pickle(\"median_income_by_zip.csv\")"
   ]
  },
  {
   "cell_type": "code",
   "execution_count": 25,
   "metadata": {},
   "outputs": [],
   "source": [
    "query_complaint_data(\"median_income_by_zip.csv\")"
   ]
  },
  {
   "cell_type": "code",
   "execution_count": 14,
   "metadata": {},
   "outputs": [],
   "source": [
    "def complaints_ordered(source_dataset, metric, limit):\n",
    "    \n",
    "    df = pd.read_pickle(source_dataset)\n",
    "\n",
    "    dictionary = {}\n",
    "    \n",
    "    c = Counter(list(df[metric]))\n",
    "    \n",
    "    most_common = c.most_common(limit)\n",
    "    \n",
    "    for element in most_common:\n",
    "        dictionary[element[0]] = element[1]\n",
    "        \n",
    "    y = list(dictionary.values())\n",
    "    labels = list(dictionary.keys())\n",
    "    x = np.arange(len(y))\n",
    "    \n",
    "    plt.figure(figsize=(20,6))\n",
    "    plt.bar(x,y)\n",
    "    plt.title('Complaints by {}'.format(metric))\n",
    "    plt.ylabel('Number of complaints')\n",
    "    plt.xlabel('{}'.format(metric))\n",
    "    plt.xticks(x,labels)\n",
    "\n",
    "    plt.show()"
   ]
  },
  {
   "cell_type": "code",
   "execution_count": 15,
   "metadata": {
    "scrolled": true
   },
   "outputs": [
    {
     "data": {
      "image/png": "[encoded data removed]",
      "text/plain": [
       "<Figure size 1440x432 with 1 Axes>"
      ]
     },
     "metadata": {},
     "output_type": "display_data"
    }
   ],
   "source": [
    "complaints_ordered('state_complaints.csv','company',5)"
   ]
  },
  {
   "cell_type": "code",
   "execution_count": 277,
   "metadata": {
    "scrolled": true
   },
   "outputs": [
    {
     "data": {
      "image/png": "[encoded data removed]",
      "text/plain": [
       "<Figure size 1440x432 with 1 Axes>"
      ]
     },
     "metadata": {},
     "output_type": "display_data"
    }
   ],
   "source": [
    "complaints_ordered('state_complaints.csv','issue',5)"
   ]
  },
  {
   "cell_type": "code",
   "execution_count": 281,
   "metadata": {
    "scrolled": true
   },
   "outputs": [
    {
     "data": {
      "image/png": "[encoded data removed]",
      "text/plain": [
       "<Figure size 1440x432 with 1 Axes>"
      ]
     },
     "metadata": {},
     "output_type": "display_data"
    }
   ],
   "source": [
    "complaints_ordered('state_complaints.csv','product',5)"
   ]
  },
  {
   "cell_type": "code",
   "execution_count": 282,
   "metadata": {
    "scrolled": true
   },
   "outputs": [
    {
     "data": {
      "image/png": "[encoded data removed]",
      "text/plain": [
       "<Figure size 1440x432 with 1 Axes>"
      ]
     },
     "metadata": {},
     "output_type": "display_data"
    }
   ],
   "source": [
    "complaints_ordered('state_complaints.csv','state',10)"
   ]
  },
  {
   "cell_type": "code",
   "execution_count": null,
   "metadata": {},
   "outputs": [],
   "source": [
    "complaints_ordered('state_complaints.csv','sub_issue',10)"
   ]
  },
  {
   "cell_type": "code",
   "execution_count": 16,
   "metadata": {},
   "outputs": [],
   "source": [
    "def state_pop_stats():\n",
    "    \n",
    "    state_codes = {\n",
    "    'WA': 'Washington', 'DE': 'Delaware', 'DC': 'District of Columbia', \n",
    "    'WI': 'Wisconsin', 'WV': 'West Virginia', 'HI': 'Hawaii',\n",
    "    'FL': 'Florida', 'WY': 'Wyoming', 'PR': 'Puerto Rico', 'NJ': 'New Jersey', \n",
    "    'NM': 'New Mexico', 'TX': 'Texas','LA': 'Louisiana', 'NC': 'North Carolina', \n",
    "    'ND': 'North Dakota', 'NE': 'Nebraska', 'TN': 'Tennessee', 'NY': 'New York',\n",
    "    'PA': 'Pennsylvania', 'AK': 'Alaska', 'NV': 'Nevada', 'NH': 'New Hampshire', \n",
    "    'VA': 'Virginia', 'CO': 'Colorado','CA': 'California', 'AL': 'Alabama', \n",
    "    'AR': 'Arkansas', 'VT': 'Vermont', 'IL': 'Illinois', 'GA': 'Georgia',\n",
    "    'IN': 'Indiana', 'IA': 'Iowa', 'MA': 'Massachusetts', 'AZ': 'Arizona', \n",
    "    'ID': 'Idaho', 'CT': 'Connecticut','ME': 'Maine', 'MD': 'Maryland', \n",
    "    'OK': 'Oklahoma', 'OH': 'Ohio', 'UT': 'Utah', 'MO': 'Missouri',\n",
    "    'MN': 'Minnesota', 'MI': 'Michigan', 'RI': 'Rhode Island', 'KS': 'Kansas', \n",
    "    'MT': 'Montana', 'MS': 'Mississippi','SC': 'South Carolina', 'KY': 'Kentucky', \n",
    "    'OR': 'Oregon', 'SD': 'South Dakota'\n",
    "    }\n",
    "\n",
    "    df = pd.read_html(\"https://simple.wikipedia.org/wiki/List_of_U.S._states_by_population\", attrs={\"class\": \"wikitable\"})\n",
    "    df = df[0]\n",
    "    state_populations = df[[2, 3]][1:]\n",
    "    state_populations.columns = ['state_name','population_16']\n",
    "    state_populations['population_16'] = state_populations['population_16'].astype(np.int64)\n",
    "        \n",
    "    states = pd.DataFrame.from_dict(state_codes, orient='index')\n",
    "    states.index.name = 'state'\n",
    "    states.columns = ['state_name']\n",
    "    states = states.reset_index()\n",
    "    states_by_population = pd.merge(states, state_populations, on='state_name')\n",
    "    states_by_population.to_pickle('states_by_population.csv')"
   ]
  },
  {
   "cell_type": "code",
   "execution_count": 17,
   "metadata": {
    "scrolled": true
   },
   "outputs": [],
   "source": [
    "state_pop_stats()"
   ]
  },
  {
   "cell_type": "code",
   "execution_count": 18,
   "metadata": {},
   "outputs": [],
   "source": [
    "def complaints_per_pop(source_dataset):\n",
    "\n",
    "    df1 = pd.read_pickle(source_dataset)\n",
    "    df2 = pd.read_pickle('states_by_population.csv')\n",
    "    \n",
    "    df3 = pd.merge(df1, df2, on='state')\n",
    "    df3['per_pop'] = df3['num_of_complaints'] / df3 ['population_16']\n",
    "    df3.to_pickle(source_dataset)"
   ]
  },
  {
   "cell_type": "code",
   "execution_count": 19,
   "metadata": {},
   "outputs": [],
   "source": [
    "complaints_per_pop(\"top_company_complaints_per_state.csv\")\n",
    "complaints_per_pop(\"top_product_complaints_per_state.csv\")\n",
    "complaints_per_pop(\"top_issue_complaints_per_state.csv\")"
   ]
  },
  {
   "cell_type": "code",
   "execution_count": 27,
   "metadata": {},
   "outputs": [],
   "source": [
    "def visualization(filename,grouped_data,metric):\n",
    "    \n",
    "    df = pd.read_pickle(filename)\n",
    "    \n",
    "    for col in df.columns:\n",
    "        df[col] = df[col].astype(str)\n",
    "\n",
    "    scl = [[0.0, 'rgb(242,246,249)'],[0.2, 'rgb(212,230,243)'],[0.4, 'rgb(179,213,239)'],\\\n",
    "            [0.6, 'rgb(166,205,239)'],[0.8, 'rgb(157,202,236)'],[1.0, 'rgb(92,150,208)']]\n",
    "\n",
    "    df['text'] = df['state'] + '<br>' +\\\n",
    "    df[grouped_data] + ' has ' + df['num_of_complaints'] + ' complaints.'\n",
    "\n",
    "    data = [ dict(\n",
    "        type='choropleth',\n",
    "        colorscale = scl,\n",
    "        autocolorscale = False,\n",
    "        locations = df['state'],\n",
    "        z = df[metric].astype(float),\n",
    "        locationmode = 'USA-states',\n",
    "        text = df['text'],\n",
    "        marker = dict(\n",
    "            line = dict (\n",
    "                color = 'rgb(255,255,255)',\n",
    "                width = 2\n",
    "            ) ),\n",
    "        colorbar = dict(\n",
    "            title = \"Number of complaints\")\n",
    "        ) ]\n",
    "\n",
    "    layout = dict(\n",
    "        title = '2018 CFPB Statistics: Most complained about companies, products and issues',\n",
    "        geo = dict(\n",
    "            scope='usa',\n",
    "            projection=dict( type='albers usa' ),\n",
    "            showlakes = True,\n",
    "            lakecolor = 'rgb(255, 255, 255)'),\n",
    "             )\n",
    "    \n",
    "    fig = dict( data=data, layout=layout )\n",
    "    visualization = py.iplot( fig, filename='d3-cloropleth-map' )\n",
    "    \n",
    "    return visualization"
   ]
  },
  {
   "cell_type": "code",
   "execution_count": 28,
   "metadata": {
    "scrolled": true
   },
   "outputs": [
    {
     "data": {
      "text/html": [
       "<iframe id=\"igraph\" scrolling=\"no\" style=\"border:none;\" seamless=\"seamless\" src=\"https://plot.ly/~njrob/4.embed\" height=\"525px\" width=\"100%\"></iframe>"
      ],
      "text/plain": [
       "<plotly.tools.PlotlyDisplay object>"
      ]
     },
     "execution_count": 28,
     "metadata": {},
     "output_type": "execute_result"
    }
   ],
   "source": [
    "visualization(\"top_company_complaints_per_state.csv\",'company','per_pop')"
   ]
  },
  {
   "cell_type": "code",
   "execution_count": 22,
   "metadata": {
    "scrolled": true
   },
   "outputs": [
    {
     "data": {
      "text/html": [
       "<iframe id=\"igraph\" scrolling=\"no\" style=\"border:none;\" seamless=\"seamless\" src=\"https://plot.ly/~njrob/4.embed\" height=\"525px\" width=\"100%\"></iframe>"
      ],
      "text/plain": [
       "<plotly.tools.PlotlyDisplay object>"
      ]
     },
     "execution_count": 22,
     "metadata": {},
     "output_type": "execute_result"
    }
   ],
   "source": [
    "visualization(\"top_company_complaints_per_state.csv\",'company','num_of_complaints')"
   ]
  },
  {
   "cell_type": "code",
   "execution_count": 234,
   "metadata": {
    "scrolled": true
   },
   "outputs": [
    {
     "data": {
      "text/html": [
       "<iframe id=\"igraph\" scrolling=\"no\" style=\"border:none;\" seamless=\"seamless\" src=\"https://plot.ly/~njrob/4.embed\" height=\"525px\" width=\"100%\"></iframe>"
      ],
      "text/plain": [
       "<plotly.tools.PlotlyDisplay object>"
      ]
     },
     "execution_count": 234,
     "metadata": {},
     "output_type": "execute_result"
    }
   ],
   "source": [
    "visualization(\"top_product_complaints_per_state.csv\",'product','per_pop')"
   ]
  },
  {
   "cell_type": "code",
   "execution_count": 235,
   "metadata": {},
   "outputs": [
    {
     "data": {
      "text/html": [
       "<iframe id=\"igraph\" scrolling=\"no\" style=\"border:none;\" seamless=\"seamless\" src=\"https://plot.ly/~njrob/4.embed\" height=\"525px\" width=\"100%\"></iframe>"
      ],
      "text/plain": [
       "<plotly.tools.PlotlyDisplay object>"
      ]
     },
     "execution_count": 235,
     "metadata": {},
     "output_type": "execute_result"
    }
   ],
   "source": [
    "visualization(\"top_product_complaints_per_state.csv\",'product','num_of_complaints')"
   ]
  },
  {
   "cell_type": "code",
   "execution_count": 236,
   "metadata": {},
   "outputs": [
    {
     "data": {
      "text/html": [
       "<iframe id=\"igraph\" scrolling=\"no\" style=\"border:none;\" seamless=\"seamless\" src=\"https://plot.ly/~njrob/4.embed\" height=\"525px\" width=\"100%\"></iframe>"
      ],
      "text/plain": [
       "<plotly.tools.PlotlyDisplay object>"
      ]
     },
     "execution_count": 236,
     "metadata": {},
     "output_type": "execute_result"
    }
   ],
   "source": [
    "visualization(\"top_issue_complaints_per_state.csv\",'issue','per_pop')"
   ]
  },
  {
   "cell_type": "code",
   "execution_count": 237,
   "metadata": {},
   "outputs": [
    {
     "data": {
      "text/html": [
       "<iframe id=\"igraph\" scrolling=\"no\" style=\"border:none;\" seamless=\"seamless\" src=\"https://plot.ly/~njrob/4.embed\" height=\"525px\" width=\"100%\"></iframe>"
      ],
      "text/plain": [
       "<plotly.tools.PlotlyDisplay object>"
      ]
     },
     "execution_count": 237,
     "metadata": {},
     "output_type": "execute_result"
    }
   ],
   "source": [
    "visualization(\"top_issue_complaints_per_state.csv\",'issue','num_of_complaints')"
   ]
  },
  {
   "cell_type": "code",
   "execution_count": null,
   "metadata": {},
   "outputs": [],
   "source": []
  }
 ],
 "metadata": {
  "kernelspec": {
   "display_name": "Python 3",
   "language": "python",
   "name": "python3"
  },
  "language_info": {
   "codemirror_mode": {
    "name": "ipython",
    "version": 3
   },
   "file_extension": ".py",
   "mimetype": "text/x-python",
   "name": "python",
   "nbconvert_exporter": "python",
   "pygments_lexer": "ipython3",
   "version": "3.6.5"
  }
 },
 "nbformat": 4,
 "nbformat_minor": 2
}
